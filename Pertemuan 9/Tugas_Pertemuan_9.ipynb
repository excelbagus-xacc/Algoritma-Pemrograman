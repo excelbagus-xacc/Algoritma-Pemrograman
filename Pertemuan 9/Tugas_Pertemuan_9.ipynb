{
  "nbformat": 4,
  "nbformat_minor": 0,
  "metadata": {
    "colab": {
      "provenance": []
    },
    "kernelspec": {
      "name": "python3",
      "display_name": "Python 3"
    },
    "language_info": {
      "name": "python"
    }
  },
  "cells": [
    {
      "cell_type": "markdown",
      "source": [
        "No. 1"
      ],
      "metadata": {
        "id": "t_5GJxWGUXX3"
      }
    },
    {
      "cell_type": "code",
      "source": [
        "buah = ['apel','mangga','jeruk','anggur','pisang']\n",
        "print(f'{buah}\\n')\n",
        "\n",
        "# a. Tambahkan 'semangka' di akhir list\n",
        "buah.append('semangka')\n",
        "print(f'Menambahkan semangka: {buah}\\n')\n",
        "\n",
        "# b. Sisipkan 'durian' di antara 'jeruk' dan 'anggur'\n",
        "buah.insert(3,'durian')\n",
        "print(f'Menyisipkan durian: {buah}\\n')\n",
        "\n",
        "# c. Hapus 'mangga' dari list\n",
        "buah.remove('mangga')\n",
        "print(f'Menghapus mangga: {buah}\\n')\n",
        "\n",
        "# d. Ubah 'pisang' menjadi 'nanas'\n",
        "buah[4] = 'nanas'\n",
        "print(f'Pisang menjadi nanas: {buah}\\n')\n",
        "\n",
        "# e. Tampilkan 3 buah pertama\n",
        "x = buah[:3]\n",
        "print(f'3 buah pertama: {x}\\n')"
      ],
      "metadata": {
        "colab": {
          "base_uri": "https://localhost:8080/"
        },
        "id": "DKhjtwQ7UYsq",
        "outputId": "0dfde7b8-872b-4330-c27b-85f92f74ab26"
      },
      "execution_count": 18,
      "outputs": [
        {
          "output_type": "stream",
          "name": "stdout",
          "text": [
            "['apel', 'mangga', 'jeruk', 'anggur', 'pisang']\n",
            "\n",
            "Menambahkan semangka: ['apel', 'mangga', 'jeruk', 'anggur', 'pisang', 'semangka']\n",
            "\n",
            "Menyisipkan durian: ['apel', 'mangga', 'jeruk', 'durian', 'anggur', 'pisang', 'semangka']\n",
            "\n",
            "Menghapus mangga: ['apel', 'jeruk', 'durian', 'anggur', 'pisang', 'semangka']\n",
            "\n",
            "Pisang menjadi nanas: ['apel', 'jeruk', 'durian', 'anggur', 'nanas', 'semangka']\n",
            "\n",
            "3 buah pertama: ['apel', 'jeruk', 'durian']\n",
            "\n"
          ]
        }
      ]
    },
    {
      "cell_type": "markdown",
      "source": [
        "No. 2"
      ],
      "metadata": {
        "id": "zi2gvT8NYRxj"
      }
    },
    {
      "cell_type": "code",
      "source": [
        "angka = [45, 12, 78, 23, 56, 89, 34]\n",
        "print(f'{angka}\\n')\n",
        "\n",
        "# a. Urutkan list secara ascending\n",
        "angka.sort()\n",
        "print(f'List ascending: {angka}\\n')\n",
        "\n",
        "# b. Urutkan list secara descending\n",
        "angka.reverse()\n",
        "print(f'List descending: {angka}\\n')"
      ],
      "metadata": {
        "colab": {
          "base_uri": "https://localhost:8080/"
        },
        "id": "or8OdNdIUtSo",
        "outputId": "9fec3ddc-709d-4dba-cf0f-4b50168fd6ac"
      },
      "execution_count": 19,
      "outputs": [
        {
          "output_type": "stream",
          "name": "stdout",
          "text": [
            "[45, 12, 78, 23, 56, 89, 34]\n",
            "\n",
            "List ascending: [12, 23, 34, 45, 56, 78, 89]\n",
            "\n",
            "List descending: [89, 78, 56, 45, 34, 23, 12]\n",
            "\n"
          ]
        }
      ]
    }
  ]
}